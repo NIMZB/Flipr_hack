{
  "nbformat": 4,
  "nbformat_minor": 0,
  "metadata": {
    "colab": {
      "name": "part1",
      "provenance": [],
      "collapsed_sections": [],
      "toc_visible": true
    },
    "kernelspec": {
      "name": "python3",
      "display_name": "Python 3"
    }
  },
  "cells": [
    {
      "cell_type": "code",
      "metadata": {
        "id": "hqhKaxwktyA9",
        "colab_type": "code",
        "outputId": "87b810c5-0f30-4763-8a42-9f0e80dde8ba",
        "colab": {
          "base_uri": "https://localhost:8080/",
          "height": 34
        }
      },
      "source": [
        "from google.colab import drive\n",
        "drive.mount('/content/drive')"
      ],
      "execution_count": 525,
      "outputs": [
        {
          "output_type": "stream",
          "text": [
            "Drive already mounted at /content/drive; to attempt to forcibly remount, call drive.mount(\"/content/drive\", force_remount=True).\n"
          ],
          "name": "stdout"
        }
      ]
    },
    {
      "cell_type": "code",
      "metadata": {
        "id": "6WAUZJPhrrCS",
        "colab_type": "code",
        "outputId": "86f93cd6-d7a6-4752-f33b-27c49a5550f5",
        "colab": {
          "base_uri": "https://localhost:8080/",
          "height": 51
        }
      },
      "source": [
        "%cd drive/My\\ Drive/Flipr\\ hackathon"
      ],
      "execution_count": 526,
      "outputs": [
        {
          "output_type": "stream",
          "text": [
            "[Errno 2] No such file or directory: 'drive/My Drive/Flipr hackathon'\n",
            "/content/drive/My Drive/Flipr hackathon\n"
          ],
          "name": "stdout"
        }
      ]
    },
    {
      "cell_type": "code",
      "metadata": {
        "id": "NXWCKFW_sW28",
        "colab_type": "code",
        "outputId": "ea8d72a0-0951-41c8-985f-694c7dbbb045",
        "colab": {
          "base_uri": "https://localhost:8080/",
          "height": 136
        }
      },
      "source": [
        "%ls"
      ],
      "execution_count": 527,
      "outputs": [
        {
          "output_type": "stream",
          "text": [
            "'21st march.csv'  'data(norm).csv'                   Solution_Sheet.docx\n",
            "'cat (1).gsheet'  'data(norm).gsheet'                Test_dataset.xlsx\n",
            " cat.csv           fin.csv                           Train_dataset.xlsx\n",
            " cat.gsheet        Hackathon_4.0_ML_Guidelines.pdf   Untitled.ipynb\n",
            "'cat(norm).csv'    int.csv                           Variable_Description.xlsx\n",
            " data.csv          int.gsheet\n",
            " data.gsheet      'int(norm).csv'\n"
          ],
          "name": "stdout"
        }
      ]
    },
    {
      "cell_type": "code",
      "metadata": {
        "id": "qHSbCKhcua8M",
        "colab_type": "code",
        "colab": {}
      },
      "source": [
        "import pandas as pd\n"
      ],
      "execution_count": 0,
      "outputs": []
    },
    {
      "cell_type": "code",
      "metadata": {
        "id": "xZDoJwyCuikV",
        "colab_type": "code",
        "colab": {}
      },
      "source": [
        "data = pd.read_excel(io=\"/content/drive/My Drive/Flipr hackathon/Train_dataset.xlsx\",header=0)"
      ],
      "execution_count": 0,
      "outputs": []
    },
    {
      "cell_type": "code",
      "metadata": {
        "id": "p3H6kASIL9M1",
        "colab_type": "code",
        "colab": {
          "base_uri": "https://localhost:8080/",
          "height": 51
        },
        "outputId": "d99cd85a-4fa0-4690-fdf8-2b24d4296b59"
      },
      "source": [
        "data.Occupation.unique()"
      ],
      "execution_count": 530,
      "outputs": [
        {
          "output_type": "execute_result",
          "data": {
            "text/plain": [
              "array(['Farmer', 'Cleaner', 'Driver', 'Manufacturing', 'Clerk', 'Sales',\n",
              "       nan, 'Business', 'Researcher', 'Legal'], dtype=object)"
            ]
          },
          "metadata": {
            "tags": []
          },
          "execution_count": 530
        }
      ]
    },
    {
      "cell_type": "code",
      "metadata": {
        "id": "I2rRiMINwIx7",
        "colab_type": "code",
        "outputId": "1997cb3e-7abd-49f1-9d8d-91529df5e8dd",
        "colab": {
          "base_uri": "https://localhost:8080/",
          "height": 493
        }
      },
      "source": [
        "data.head(5)\n",
        "for col in data.columns:\n",
        "  print(col)"
      ],
      "execution_count": 531,
      "outputs": [
        {
          "output_type": "stream",
          "text": [
            "people_ID\n",
            "Region\n",
            "Gender\n",
            "Designation\n",
            "Name\n",
            "Married\n",
            "Children\n",
            "Occupation\n",
            "Mode_transport\n",
            "cases/1M\n",
            "Deaths/1M\n",
            "comorbidity\n",
            "Age\n",
            "Coma score\n",
            "Pulmonary score\n",
            "cardiological pressure\n",
            "Diuresis\n",
            "Platelets\n",
            "HBB\n",
            "d-dimer\n",
            "Heart rate\n",
            "HDL cholesterol\n",
            "Charlson Index\n",
            "Blood Glucose\n",
            "Insurance\n",
            "salary\n",
            "FT/month\n",
            "Infect_Prob\n"
          ],
          "name": "stdout"
        }
      ]
    },
    {
      "cell_type": "markdown",
      "metadata": {
        "id": "BEImofC_yUus",
        "colab_type": "text"
      },
      "source": [
        "## Categorization"
      ]
    },
    {
      "cell_type": "code",
      "metadata": {
        "id": "KdU5F3Xsbc5W",
        "colab_type": "code",
        "colab": {}
      },
      "source": [
        "data.Region = pd.Categorical(data.Region)\n",
        "regd = dict( enumerate(data['Region'].cat.categories ) ) \n",
        "data['Region'] = data.Region.cat.codes\n",
        "data.Gender = pd.Categorical(data.Gender)\n",
        "gend = dict( enumerate(data['Gender'].cat.categories ) )\n",
        "data['Gender'] = data.Gender.cat.codes\n",
        "data.Married = pd.Categorical(data.Married)\n",
        "mard = dict( enumerate(data['Married'].cat.categories ) )\n",
        "data['Married'] = data.Married.cat.codes\n",
        "data.Occupation = pd.Categorical(data.Occupation)\n",
        "occd = dict( enumerate(data['Occupation'].cat.categories ) )\n",
        "data['Occupation'] = data.Occupation.cat.codes \n",
        "data.Mode_transport = pd.Categorical(data.Mode_transport)\n",
        "trand = dict( enumerate(data['Mode_transport'].cat.categories ) )\n",
        "data['Mode_transport'] = data.Mode_transport.cat.codes\n",
        "data.comorbidity = pd.Categorical(data.comorbidity)\n",
        "comd = dict( enumerate(data['comorbidity'].cat.categories ) )\n",
        "data['comorbidity'] = data.comorbidity.cat.codes\n",
        "data[\"cardiological pressure\"] = pd.Categorical(data[\"cardiological pressure\"])\n",
        "card = dict( enumerate(data['cardiological pressure'].cat.categories ) )\n",
        "data['cardiological pressure'] = data[\"cardiological pressure\"].cat.codes\n",
        "data[\"Pulmonary score\"] = pd.Categorical(data[\"Pulmonary score\"])\n",
        "puld = dict( enumerate(data['Pulmonary score'].cat.categories ) )\n",
        "data['Pulmonary score'] = data[\"Pulmonary score\"].cat.codes"
      ],
      "execution_count": 0,
      "outputs": []
    },
    {
      "cell_type": "code",
      "metadata": {
        "id": "7kHp-k8HbINI",
        "colab_type": "code",
        "colab": {}
      },
      "source": [
        "gend = {value:key for key, value in gend.items()}\n",
        "mard = {value:key for key, value in mard.items()}\n",
        "occd = {value:key for key, value in occd.items()}\n",
        "trand = {value:key for key, value in trand.items()}\n",
        "comd = {value:key for key, value in comd.items()}\n",
        "card = {value:key for key, value in card.items()}\n",
        "puld = {value:key for key, value in puld.items()}"
      ],
      "execution_count": 0,
      "outputs": []
    },
    {
      "cell_type": "code",
      "metadata": {
        "id": "MlhSJ_E9kpBK",
        "colab_type": "code",
        "outputId": "afc3f9d5-12c2-4ea1-c832-afa1785d4d2c",
        "colab": {
          "base_uri": "https://localhost:8080/",
          "height": 34
        }
      },
      "source": [
        "regd"
      ],
      "execution_count": 534,
      "outputs": [
        {
          "output_type": "execute_result",
          "data": {
            "text/plain": [
              "{0: 'Bengaluru', 1: 'Bhubaneshwar', 2: 'Chandigarh', 3: 'Chennai', 4: 'Delhi'}"
            ]
          },
          "metadata": {
            "tags": []
          },
          "execution_count": 534
        }
      ]
    },
    {
      "cell_type": "code",
      "metadata": {
        "id": "az2H2DKEqS-m",
        "colab_type": "code",
        "colab": {}
      },
      "source": [
        "# pb = data['Pulmonary score']\n",
        "data = data.drop(columns = ['Designation','Name'])\n"
      ],
      "execution_count": 0,
      "outputs": []
    },
    {
      "cell_type": "code",
      "metadata": {
        "id": "YwGwmdi7u9B2",
        "colab_type": "code",
        "colab": {}
      },
      "source": [
        "data = data.dropna()"
      ],
      "execution_count": 0,
      "outputs": []
    },
    {
      "cell_type": "code",
      "metadata": {
        "id": "2F5OJAJIuKbl",
        "colab_type": "code",
        "colab": {
          "base_uri": "https://localhost:8080/",
          "height": 456
        },
        "outputId": "610f93d2-d079-4aca-f2f4-a7a0c15eeddd"
      },
      "source": [
        "data.head(-5)"
      ],
      "execution_count": 537,
      "outputs": [
        {
          "output_type": "execute_result",
          "data": {
            "text/html": [
              "<div>\n",
              "<style scoped>\n",
              "    .dataframe tbody tr th:only-of-type {\n",
              "        vertical-align: middle;\n",
              "    }\n",
              "\n",
              "    .dataframe tbody tr th {\n",
              "        vertical-align: top;\n",
              "    }\n",
              "\n",
              "    .dataframe thead th {\n",
              "        text-align: right;\n",
              "    }\n",
              "</style>\n",
              "<table border=\"1\" class=\"dataframe\">\n",
              "  <thead>\n",
              "    <tr style=\"text-align: right;\">\n",
              "      <th></th>\n",
              "      <th>people_ID</th>\n",
              "      <th>Region</th>\n",
              "      <th>Gender</th>\n",
              "      <th>Married</th>\n",
              "      <th>Children</th>\n",
              "      <th>Occupation</th>\n",
              "      <th>Mode_transport</th>\n",
              "      <th>cases/1M</th>\n",
              "      <th>Deaths/1M</th>\n",
              "      <th>comorbidity</th>\n",
              "      <th>Age</th>\n",
              "      <th>Coma score</th>\n",
              "      <th>Pulmonary score</th>\n",
              "      <th>cardiological pressure</th>\n",
              "      <th>Diuresis</th>\n",
              "      <th>Platelets</th>\n",
              "      <th>HBB</th>\n",
              "      <th>d-dimer</th>\n",
              "      <th>Heart rate</th>\n",
              "      <th>HDL cholesterol</th>\n",
              "      <th>Charlson Index</th>\n",
              "      <th>Blood Glucose</th>\n",
              "      <th>Insurance</th>\n",
              "      <th>salary</th>\n",
              "      <th>FT/month</th>\n",
              "      <th>Infect_Prob</th>\n",
              "    </tr>\n",
              "  </thead>\n",
              "  <tbody>\n",
              "    <tr>\n",
              "      <th>0</th>\n",
              "      <td>1</td>\n",
              "      <td>1</td>\n",
              "      <td>0</td>\n",
              "      <td>1</td>\n",
              "      <td>1.0</td>\n",
              "      <td>4</td>\n",
              "      <td>1</td>\n",
              "      <td>2</td>\n",
              "      <td>0</td>\n",
              "      <td>2</td>\n",
              "      <td>68</td>\n",
              "      <td>8</td>\n",
              "      <td>3</td>\n",
              "      <td>1</td>\n",
              "      <td>441.0</td>\n",
              "      <td>154.0</td>\n",
              "      <td>93.0</td>\n",
              "      <td>233.0</td>\n",
              "      <td>82.0</td>\n",
              "      <td>58.0</td>\n",
              "      <td>27</td>\n",
              "      <td>7</td>\n",
              "      <td>3600000.0</td>\n",
              "      <td>1300000</td>\n",
              "      <td>2.0</td>\n",
              "      <td>49.135010</td>\n",
              "    </tr>\n",
              "    <tr>\n",
              "      <th>2</th>\n",
              "      <td>3</td>\n",
              "      <td>1</td>\n",
              "      <td>0</td>\n",
              "      <td>0</td>\n",
              "      <td>1.0</td>\n",
              "      <td>1</td>\n",
              "      <td>1</td>\n",
              "      <td>2</td>\n",
              "      <td>0</td>\n",
              "      <td>3</td>\n",
              "      <td>19</td>\n",
              "      <td>13</td>\n",
              "      <td>2</td>\n",
              "      <td>0</td>\n",
              "      <td>416.0</td>\n",
              "      <td>124.0</td>\n",
              "      <td>137.0</td>\n",
              "      <td>213.0</td>\n",
              "      <td>77.0</td>\n",
              "      <td>43.0</td>\n",
              "      <td>40</td>\n",
              "      <td>6</td>\n",
              "      <td>3400000.0</td>\n",
              "      <td>900000</td>\n",
              "      <td>1.0</td>\n",
              "      <td>73.224000</td>\n",
              "    </tr>\n",
              "    <tr>\n",
              "      <th>3</th>\n",
              "      <td>4</td>\n",
              "      <td>1</td>\n",
              "      <td>0</td>\n",
              "      <td>1</td>\n",
              "      <td>1.0</td>\n",
              "      <td>3</td>\n",
              "      <td>0</td>\n",
              "      <td>2</td>\n",
              "      <td>0</td>\n",
              "      <td>0</td>\n",
              "      <td>33</td>\n",
              "      <td>9</td>\n",
              "      <td>1</td>\n",
              "      <td>2</td>\n",
              "      <td>410.0</td>\n",
              "      <td>98.0</td>\n",
              "      <td>167.0</td>\n",
              "      <td>275.0</td>\n",
              "      <td>64.0</td>\n",
              "      <td>60.0</td>\n",
              "      <td>27</td>\n",
              "      <td>7</td>\n",
              "      <td>700000.0</td>\n",
              "      <td>2300000</td>\n",
              "      <td>1.0</td>\n",
              "      <td>48.779225</td>\n",
              "    </tr>\n",
              "    <tr>\n",
              "      <th>4</th>\n",
              "      <td>5</td>\n",
              "      <td>1</td>\n",
              "      <td>0</td>\n",
              "      <td>0</td>\n",
              "      <td>2.0</td>\n",
              "      <td>6</td>\n",
              "      <td>0</td>\n",
              "      <td>2</td>\n",
              "      <td>0</td>\n",
              "      <td>1</td>\n",
              "      <td>23</td>\n",
              "      <td>7</td>\n",
              "      <td>3</td>\n",
              "      <td>1</td>\n",
              "      <td>390.0</td>\n",
              "      <td>21.0</td>\n",
              "      <td>153.0</td>\n",
              "      <td>331.0</td>\n",
              "      <td>71.0</td>\n",
              "      <td>64.0</td>\n",
              "      <td>32</td>\n",
              "      <td>7</td>\n",
              "      <td>3200000.0</td>\n",
              "      <td>1100000</td>\n",
              "      <td>1.0</td>\n",
              "      <td>87.868800</td>\n",
              "    </tr>\n",
              "    <tr>\n",
              "      <th>5</th>\n",
              "      <td>6</td>\n",
              "      <td>1</td>\n",
              "      <td>0</td>\n",
              "      <td>1</td>\n",
              "      <td>1.0</td>\n",
              "      <td>2</td>\n",
              "      <td>1</td>\n",
              "      <td>2</td>\n",
              "      <td>0</td>\n",
              "      <td>3</td>\n",
              "      <td>35</td>\n",
              "      <td>9</td>\n",
              "      <td>0</td>\n",
              "      <td>3</td>\n",
              "      <td>389.0</td>\n",
              "      <td>139.0</td>\n",
              "      <td>86.0</td>\n",
              "      <td>216.0</td>\n",
              "      <td>94.0</td>\n",
              "      <td>38.0</td>\n",
              "      <td>5</td>\n",
              "      <td>5</td>\n",
              "      <td>4600000.0</td>\n",
              "      <td>1900000</td>\n",
              "      <td>2.0</td>\n",
              "      <td>49.518345</td>\n",
              "    </tr>\n",
              "    <tr>\n",
              "      <th>...</th>\n",
              "      <td>...</td>\n",
              "      <td>...</td>\n",
              "      <td>...</td>\n",
              "      <td>...</td>\n",
              "      <td>...</td>\n",
              "      <td>...</td>\n",
              "      <td>...</td>\n",
              "      <td>...</td>\n",
              "      <td>...</td>\n",
              "      <td>...</td>\n",
              "      <td>...</td>\n",
              "      <td>...</td>\n",
              "      <td>...</td>\n",
              "      <td>...</td>\n",
              "      <td>...</td>\n",
              "      <td>...</td>\n",
              "      <td>...</td>\n",
              "      <td>...</td>\n",
              "      <td>...</td>\n",
              "      <td>...</td>\n",
              "      <td>...</td>\n",
              "      <td>...</td>\n",
              "      <td>...</td>\n",
              "      <td>...</td>\n",
              "      <td>...</td>\n",
              "      <td>...</td>\n",
              "    </tr>\n",
              "    <tr>\n",
              "      <th>10700</th>\n",
              "      <td>22682</td>\n",
              "      <td>0</td>\n",
              "      <td>1</td>\n",
              "      <td>1</td>\n",
              "      <td>1.0</td>\n",
              "      <td>2</td>\n",
              "      <td>2</td>\n",
              "      <td>8</td>\n",
              "      <td>2</td>\n",
              "      <td>2</td>\n",
              "      <td>36</td>\n",
              "      <td>4</td>\n",
              "      <td>0</td>\n",
              "      <td>3</td>\n",
              "      <td>379.0</td>\n",
              "      <td>50.0</td>\n",
              "      <td>134.0</td>\n",
              "      <td>343.0</td>\n",
              "      <td>78.0</td>\n",
              "      <td>54.0</td>\n",
              "      <td>24</td>\n",
              "      <td>6</td>\n",
              "      <td>1400000.0</td>\n",
              "      <td>1000000</td>\n",
              "      <td>0.0</td>\n",
              "      <td>52.927680</td>\n",
              "    </tr>\n",
              "    <tr>\n",
              "      <th>10701</th>\n",
              "      <td>22683</td>\n",
              "      <td>0</td>\n",
              "      <td>1</td>\n",
              "      <td>1</td>\n",
              "      <td>0.0</td>\n",
              "      <td>5</td>\n",
              "      <td>1</td>\n",
              "      <td>8</td>\n",
              "      <td>2</td>\n",
              "      <td>2</td>\n",
              "      <td>50</td>\n",
              "      <td>12</td>\n",
              "      <td>0</td>\n",
              "      <td>3</td>\n",
              "      <td>256.0</td>\n",
              "      <td>42.0</td>\n",
              "      <td>55.0</td>\n",
              "      <td>274.0</td>\n",
              "      <td>96.0</td>\n",
              "      <td>40.0</td>\n",
              "      <td>37</td>\n",
              "      <td>6</td>\n",
              "      <td>700000.0</td>\n",
              "      <td>300000</td>\n",
              "      <td>2.0</td>\n",
              "      <td>46.943607</td>\n",
              "    </tr>\n",
              "    <tr>\n",
              "      <th>10702</th>\n",
              "      <td>22684</td>\n",
              "      <td>0</td>\n",
              "      <td>1</td>\n",
              "      <td>1</td>\n",
              "      <td>1.0</td>\n",
              "      <td>6</td>\n",
              "      <td>0</td>\n",
              "      <td>8</td>\n",
              "      <td>2</td>\n",
              "      <td>0</td>\n",
              "      <td>67</td>\n",
              "      <td>8</td>\n",
              "      <td>0</td>\n",
              "      <td>3</td>\n",
              "      <td>417.0</td>\n",
              "      <td>90.0</td>\n",
              "      <td>92.0</td>\n",
              "      <td>234.0</td>\n",
              "      <td>76.0</td>\n",
              "      <td>44.0</td>\n",
              "      <td>31</td>\n",
              "      <td>7</td>\n",
              "      <td>300000.0</td>\n",
              "      <td>1800000</td>\n",
              "      <td>2.0</td>\n",
              "      <td>53.944690</td>\n",
              "    </tr>\n",
              "    <tr>\n",
              "      <th>10703</th>\n",
              "      <td>22685</td>\n",
              "      <td>0</td>\n",
              "      <td>1</td>\n",
              "      <td>1</td>\n",
              "      <td>2.0</td>\n",
              "      <td>5</td>\n",
              "      <td>1</td>\n",
              "      <td>8</td>\n",
              "      <td>2</td>\n",
              "      <td>0</td>\n",
              "      <td>28</td>\n",
              "      <td>13</td>\n",
              "      <td>2</td>\n",
              "      <td>0</td>\n",
              "      <td>389.0</td>\n",
              "      <td>121.0</td>\n",
              "      <td>93.0</td>\n",
              "      <td>205.0</td>\n",
              "      <td>67.0</td>\n",
              "      <td>67.0</td>\n",
              "      <td>6</td>\n",
              "      <td>7</td>\n",
              "      <td>3600000.0</td>\n",
              "      <td>2100000</td>\n",
              "      <td>1.0</td>\n",
              "      <td>60.658171</td>\n",
              "    </tr>\n",
              "    <tr>\n",
              "      <th>10704</th>\n",
              "      <td>22686</td>\n",
              "      <td>0</td>\n",
              "      <td>1</td>\n",
              "      <td>1</td>\n",
              "      <td>2.0</td>\n",
              "      <td>7</td>\n",
              "      <td>2</td>\n",
              "      <td>8</td>\n",
              "      <td>2</td>\n",
              "      <td>3</td>\n",
              "      <td>28</td>\n",
              "      <td>9</td>\n",
              "      <td>1</td>\n",
              "      <td>2</td>\n",
              "      <td>339.0</td>\n",
              "      <td>146.0</td>\n",
              "      <td>72.0</td>\n",
              "      <td>307.0</td>\n",
              "      <td>60.0</td>\n",
              "      <td>58.0</td>\n",
              "      <td>35</td>\n",
              "      <td>4</td>\n",
              "      <td>4400000.0</td>\n",
              "      <td>700000</td>\n",
              "      <td>0.0</td>\n",
              "      <td>59.594744</td>\n",
              "    </tr>\n",
              "  </tbody>\n",
              "</table>\n",
              "<p>7050 rows × 26 columns</p>\n",
              "</div>"
            ],
            "text/plain": [
              "       people_ID  Region  Gender  ...   salary  FT/month  Infect_Prob\n",
              "0              1       1       0  ...  1300000       2.0    49.135010\n",
              "2              3       1       0  ...   900000       1.0    73.224000\n",
              "3              4       1       0  ...  2300000       1.0    48.779225\n",
              "4              5       1       0  ...  1100000       1.0    87.868800\n",
              "5              6       1       0  ...  1900000       2.0    49.518345\n",
              "...          ...     ...     ...  ...      ...       ...          ...\n",
              "10700      22682       0       1  ...  1000000       0.0    52.927680\n",
              "10701      22683       0       1  ...   300000       2.0    46.943607\n",
              "10702      22684       0       1  ...  1800000       2.0    53.944690\n",
              "10703      22685       0       1  ...  2100000       1.0    60.658171\n",
              "10704      22686       0       1  ...   700000       0.0    59.594744\n",
              "\n",
              "[7050 rows x 26 columns]"
            ]
          },
          "metadata": {
            "tags": []
          },
          "execution_count": 537
        }
      ]
    },
    {
      "cell_type": "code",
      "metadata": {
        "id": "waVGFNsV38_q",
        "colab_type": "code",
        "colab": {}
      },
      "source": [
        "data.to_csv('data.csv')"
      ],
      "execution_count": 0,
      "outputs": []
    },
    {
      "cell_type": "markdown",
      "metadata": {
        "id": "jVlxHxjCy7DD",
        "colab_type": "text"
      },
      "source": [
        "## Normalising"
      ]
    },
    {
      "cell_type": "code",
      "metadata": {
        "id": "ndPnOwbvBtoc",
        "colab_type": "code",
        "colab": {}
      },
      "source": [
        "from sklearn import preprocessing"
      ],
      "execution_count": 0,
      "outputs": []
    },
    {
      "cell_type": "code",
      "metadata": {
        "id": "oXiMriMfvdIc",
        "colab_type": "code",
        "colab": {}
      },
      "source": [
        "data = data.drop(columns=\"people_ID\")"
      ],
      "execution_count": 0,
      "outputs": []
    },
    {
      "cell_type": "code",
      "metadata": {
        "id": "32a0BNy1B48k",
        "colab_type": "code",
        "colab": {}
      },
      "source": [
        "data = data.values\n",
        "min_max_scaler = preprocessing.MinMaxScaler()\n",
        "x_scaled = min_max_scaler.fit_transform(data)\n",
        "data = pd.DataFrame(x_scaled)"
      ],
      "execution_count": 0,
      "outputs": []
    },
    {
      "cell_type": "code",
      "metadata": {
        "colab_type": "code",
        "outputId": "5ec5127e-a6bf-426a-c925-d8ee78b6c9fa",
        "id": "piUaxE_XwAff",
        "colab": {
          "base_uri": "https://localhost:8080/",
          "height": 439
        }
      },
      "source": [
        "data.head(-5)"
      ],
      "execution_count": 542,
      "outputs": [
        {
          "output_type": "execute_result",
          "data": {
            "text/html": [
              "<div>\n",
              "<style scoped>\n",
              "    .dataframe tbody tr th:only-of-type {\n",
              "        vertical-align: middle;\n",
              "    }\n",
              "\n",
              "    .dataframe tbody tr th {\n",
              "        vertical-align: top;\n",
              "    }\n",
              "\n",
              "    .dataframe thead th {\n",
              "        text-align: right;\n",
              "    }\n",
              "</style>\n",
              "<table border=\"1\" class=\"dataframe\">\n",
              "  <thead>\n",
              "    <tr style=\"text-align: right;\">\n",
              "      <th></th>\n",
              "      <th>0</th>\n",
              "      <th>1</th>\n",
              "      <th>2</th>\n",
              "      <th>3</th>\n",
              "      <th>4</th>\n",
              "      <th>5</th>\n",
              "      <th>6</th>\n",
              "      <th>7</th>\n",
              "      <th>8</th>\n",
              "      <th>9</th>\n",
              "      <th>10</th>\n",
              "      <th>11</th>\n",
              "      <th>12</th>\n",
              "      <th>13</th>\n",
              "      <th>14</th>\n",
              "      <th>15</th>\n",
              "      <th>16</th>\n",
              "      <th>17</th>\n",
              "      <th>18</th>\n",
              "      <th>19</th>\n",
              "      <th>20</th>\n",
              "      <th>21</th>\n",
              "      <th>22</th>\n",
              "      <th>23</th>\n",
              "      <th>24</th>\n",
              "    </tr>\n",
              "  </thead>\n",
              "  <tbody>\n",
              "    <tr>\n",
              "      <th>0</th>\n",
              "      <td>0.25</td>\n",
              "      <td>0.0</td>\n",
              "      <td>1.0</td>\n",
              "      <td>0.5</td>\n",
              "      <td>0.500</td>\n",
              "      <td>0.5</td>\n",
              "      <td>0.142857</td>\n",
              "      <td>0.0</td>\n",
              "      <td>0.75</td>\n",
              "      <td>1.000000</td>\n",
              "      <td>0.416667</td>\n",
              "      <td>1.000000</td>\n",
              "      <td>0.50</td>\n",
              "      <td>0.973529</td>\n",
              "      <td>0.958621</td>\n",
              "      <td>0.384211</td>\n",
              "      <td>0.220000</td>\n",
              "      <td>0.64</td>\n",
              "      <td>0.657143</td>\n",
              "      <td>0.675</td>\n",
              "      <td>1.00</td>\n",
              "      <td>0.702128</td>\n",
              "      <td>0.50</td>\n",
              "      <td>1.0</td>\n",
              "      <td>0.290382</td>\n",
              "    </tr>\n",
              "    <tr>\n",
              "      <th>1</th>\n",
              "      <td>0.25</td>\n",
              "      <td>0.0</td>\n",
              "      <td>0.0</td>\n",
              "      <td>0.5</td>\n",
              "      <td>0.125</td>\n",
              "      <td>0.5</td>\n",
              "      <td>0.142857</td>\n",
              "      <td>0.0</td>\n",
              "      <td>1.00</td>\n",
              "      <td>0.057692</td>\n",
              "      <td>0.833333</td>\n",
              "      <td>0.666667</td>\n",
              "      <td>0.25</td>\n",
              "      <td>0.900000</td>\n",
              "      <td>0.751724</td>\n",
              "      <td>0.615789</td>\n",
              "      <td>0.086667</td>\n",
              "      <td>0.54</td>\n",
              "      <td>0.228571</td>\n",
              "      <td>1.000</td>\n",
              "      <td>0.75</td>\n",
              "      <td>0.659574</td>\n",
              "      <td>0.30</td>\n",
              "      <td>0.5</td>\n",
              "      <td>0.642857</td>\n",
              "    </tr>\n",
              "    <tr>\n",
              "      <th>2</th>\n",
              "      <td>0.25</td>\n",
              "      <td>0.0</td>\n",
              "      <td>1.0</td>\n",
              "      <td>0.5</td>\n",
              "      <td>0.375</td>\n",
              "      <td>0.0</td>\n",
              "      <td>0.142857</td>\n",
              "      <td>0.0</td>\n",
              "      <td>0.25</td>\n",
              "      <td>0.326923</td>\n",
              "      <td>0.500000</td>\n",
              "      <td>0.333333</td>\n",
              "      <td>0.75</td>\n",
              "      <td>0.882353</td>\n",
              "      <td>0.572414</td>\n",
              "      <td>0.773684</td>\n",
              "      <td>0.500000</td>\n",
              "      <td>0.28</td>\n",
              "      <td>0.714286</td>\n",
              "      <td>0.675</td>\n",
              "      <td>1.00</td>\n",
              "      <td>0.085106</td>\n",
              "      <td>1.00</td>\n",
              "      <td>0.5</td>\n",
              "      <td>0.285176</td>\n",
              "    </tr>\n",
              "    <tr>\n",
              "      <th>3</th>\n",
              "      <td>0.25</td>\n",
              "      <td>0.0</td>\n",
              "      <td>0.0</td>\n",
              "      <td>1.0</td>\n",
              "      <td>0.750</td>\n",
              "      <td>0.0</td>\n",
              "      <td>0.142857</td>\n",
              "      <td>0.0</td>\n",
              "      <td>0.50</td>\n",
              "      <td>0.134615</td>\n",
              "      <td>0.333333</td>\n",
              "      <td>1.000000</td>\n",
              "      <td>0.50</td>\n",
              "      <td>0.823529</td>\n",
              "      <td>0.041379</td>\n",
              "      <td>0.700000</td>\n",
              "      <td>0.873333</td>\n",
              "      <td>0.42</td>\n",
              "      <td>0.828571</td>\n",
              "      <td>0.800</td>\n",
              "      <td>1.00</td>\n",
              "      <td>0.617021</td>\n",
              "      <td>0.40</td>\n",
              "      <td>0.5</td>\n",
              "      <td>0.857143</td>\n",
              "    </tr>\n",
              "    <tr>\n",
              "      <th>4</th>\n",
              "      <td>0.25</td>\n",
              "      <td>0.0</td>\n",
              "      <td>1.0</td>\n",
              "      <td>0.5</td>\n",
              "      <td>0.250</td>\n",
              "      <td>0.5</td>\n",
              "      <td>0.142857</td>\n",
              "      <td>0.0</td>\n",
              "      <td>1.00</td>\n",
              "      <td>0.365385</td>\n",
              "      <td>0.500000</td>\n",
              "      <td>0.000000</td>\n",
              "      <td>1.00</td>\n",
              "      <td>0.820588</td>\n",
              "      <td>0.855172</td>\n",
              "      <td>0.347368</td>\n",
              "      <td>0.106667</td>\n",
              "      <td>0.88</td>\n",
              "      <td>0.085714</td>\n",
              "      <td>0.125</td>\n",
              "      <td>0.50</td>\n",
              "      <td>0.914894</td>\n",
              "      <td>0.80</td>\n",
              "      <td>1.0</td>\n",
              "      <td>0.295991</td>\n",
              "    </tr>\n",
              "    <tr>\n",
              "      <th>...</th>\n",
              "      <td>...</td>\n",
              "      <td>...</td>\n",
              "      <td>...</td>\n",
              "      <td>...</td>\n",
              "      <td>...</td>\n",
              "      <td>...</td>\n",
              "      <td>...</td>\n",
              "      <td>...</td>\n",
              "      <td>...</td>\n",
              "      <td>...</td>\n",
              "      <td>...</td>\n",
              "      <td>...</td>\n",
              "      <td>...</td>\n",
              "      <td>...</td>\n",
              "      <td>...</td>\n",
              "      <td>...</td>\n",
              "      <td>...</td>\n",
              "      <td>...</td>\n",
              "      <td>...</td>\n",
              "      <td>...</td>\n",
              "      <td>...</td>\n",
              "      <td>...</td>\n",
              "      <td>...</td>\n",
              "      <td>...</td>\n",
              "      <td>...</td>\n",
              "    </tr>\n",
              "    <tr>\n",
              "      <th>7045</th>\n",
              "      <td>0.00</td>\n",
              "      <td>1.0</td>\n",
              "      <td>1.0</td>\n",
              "      <td>0.5</td>\n",
              "      <td>0.250</td>\n",
              "      <td>1.0</td>\n",
              "      <td>1.000000</td>\n",
              "      <td>1.0</td>\n",
              "      <td>0.75</td>\n",
              "      <td>0.384615</td>\n",
              "      <td>0.083333</td>\n",
              "      <td>0.000000</td>\n",
              "      <td>1.00</td>\n",
              "      <td>0.791176</td>\n",
              "      <td>0.241379</td>\n",
              "      <td>0.600000</td>\n",
              "      <td>0.953333</td>\n",
              "      <td>0.56</td>\n",
              "      <td>0.542857</td>\n",
              "      <td>0.600</td>\n",
              "      <td>0.75</td>\n",
              "      <td>0.234043</td>\n",
              "      <td>0.35</td>\n",
              "      <td>0.0</td>\n",
              "      <td>0.345877</td>\n",
              "    </tr>\n",
              "    <tr>\n",
              "      <th>7046</th>\n",
              "      <td>0.00</td>\n",
              "      <td>1.0</td>\n",
              "      <td>1.0</td>\n",
              "      <td>0.0</td>\n",
              "      <td>0.625</td>\n",
              "      <td>0.5</td>\n",
              "      <td>1.000000</td>\n",
              "      <td>1.0</td>\n",
              "      <td>0.75</td>\n",
              "      <td>0.653846</td>\n",
              "      <td>0.750000</td>\n",
              "      <td>0.000000</td>\n",
              "      <td>1.00</td>\n",
              "      <td>0.429412</td>\n",
              "      <td>0.186207</td>\n",
              "      <td>0.184211</td>\n",
              "      <td>0.493333</td>\n",
              "      <td>0.92</td>\n",
              "      <td>0.142857</td>\n",
              "      <td>0.925</td>\n",
              "      <td>0.75</td>\n",
              "      <td>0.085106</td>\n",
              "      <td>0.00</td>\n",
              "      <td>1.0</td>\n",
              "      <td>0.258317</td>\n",
              "    </tr>\n",
              "    <tr>\n",
              "      <th>7047</th>\n",
              "      <td>0.00</td>\n",
              "      <td>1.0</td>\n",
              "      <td>1.0</td>\n",
              "      <td>0.5</td>\n",
              "      <td>0.750</td>\n",
              "      <td>0.0</td>\n",
              "      <td>1.000000</td>\n",
              "      <td>1.0</td>\n",
              "      <td>0.25</td>\n",
              "      <td>0.980769</td>\n",
              "      <td>0.416667</td>\n",
              "      <td>0.000000</td>\n",
              "      <td>1.00</td>\n",
              "      <td>0.902941</td>\n",
              "      <td>0.517241</td>\n",
              "      <td>0.378947</td>\n",
              "      <td>0.226667</td>\n",
              "      <td>0.52</td>\n",
              "      <td>0.257143</td>\n",
              "      <td>0.775</td>\n",
              "      <td>1.00</td>\n",
              "      <td>0.000000</td>\n",
              "      <td>0.75</td>\n",
              "      <td>1.0</td>\n",
              "      <td>0.360758</td>\n",
              "    </tr>\n",
              "    <tr>\n",
              "      <th>7048</th>\n",
              "      <td>0.00</td>\n",
              "      <td>1.0</td>\n",
              "      <td>1.0</td>\n",
              "      <td>1.0</td>\n",
              "      <td>0.625</td>\n",
              "      <td>0.5</td>\n",
              "      <td>1.000000</td>\n",
              "      <td>1.0</td>\n",
              "      <td>0.25</td>\n",
              "      <td>0.230769</td>\n",
              "      <td>0.833333</td>\n",
              "      <td>0.666667</td>\n",
              "      <td>0.25</td>\n",
              "      <td>0.820588</td>\n",
              "      <td>0.731034</td>\n",
              "      <td>0.384211</td>\n",
              "      <td>0.033333</td>\n",
              "      <td>0.34</td>\n",
              "      <td>0.914286</td>\n",
              "      <td>0.150</td>\n",
              "      <td>1.00</td>\n",
              "      <td>0.702128</td>\n",
              "      <td>0.90</td>\n",
              "      <td>0.5</td>\n",
              "      <td>0.458991</td>\n",
              "    </tr>\n",
              "    <tr>\n",
              "      <th>7049</th>\n",
              "      <td>0.00</td>\n",
              "      <td>1.0</td>\n",
              "      <td>1.0</td>\n",
              "      <td>1.0</td>\n",
              "      <td>0.875</td>\n",
              "      <td>1.0</td>\n",
              "      <td>1.000000</td>\n",
              "      <td>1.0</td>\n",
              "      <td>1.00</td>\n",
              "      <td>0.230769</td>\n",
              "      <td>0.500000</td>\n",
              "      <td>0.333333</td>\n",
              "      <td>0.75</td>\n",
              "      <td>0.673529</td>\n",
              "      <td>0.903448</td>\n",
              "      <td>0.273684</td>\n",
              "      <td>0.713333</td>\n",
              "      <td>0.20</td>\n",
              "      <td>0.657143</td>\n",
              "      <td>0.875</td>\n",
              "      <td>0.25</td>\n",
              "      <td>0.872340</td>\n",
              "      <td>0.20</td>\n",
              "      <td>0.0</td>\n",
              "      <td>0.443431</td>\n",
              "    </tr>\n",
              "  </tbody>\n",
              "</table>\n",
              "<p>7050 rows × 25 columns</p>\n",
              "</div>"
            ],
            "text/plain": [
              "        0    1    2    3      4   ...    20        21    22   23        24\n",
              "0     0.25  0.0  1.0  0.5  0.500  ...  1.00  0.702128  0.50  1.0  0.290382\n",
              "1     0.25  0.0  0.0  0.5  0.125  ...  0.75  0.659574  0.30  0.5  0.642857\n",
              "2     0.25  0.0  1.0  0.5  0.375  ...  1.00  0.085106  1.00  0.5  0.285176\n",
              "3     0.25  0.0  0.0  1.0  0.750  ...  1.00  0.617021  0.40  0.5  0.857143\n",
              "4     0.25  0.0  1.0  0.5  0.250  ...  0.50  0.914894  0.80  1.0  0.295991\n",
              "...    ...  ...  ...  ...    ...  ...   ...       ...   ...  ...       ...\n",
              "7045  0.00  1.0  1.0  0.5  0.250  ...  0.75  0.234043  0.35  0.0  0.345877\n",
              "7046  0.00  1.0  1.0  0.0  0.625  ...  0.75  0.085106  0.00  1.0  0.258317\n",
              "7047  0.00  1.0  1.0  0.5  0.750  ...  1.00  0.000000  0.75  1.0  0.360758\n",
              "7048  0.00  1.0  1.0  1.0  0.625  ...  1.00  0.702128  0.90  0.5  0.458991\n",
              "7049  0.00  1.0  1.0  1.0  0.875  ...  0.25  0.872340  0.20  0.0  0.443431\n",
              "\n",
              "[7050 rows x 25 columns]"
            ]
          },
          "metadata": {
            "tags": []
          },
          "execution_count": 542
        }
      ]
    },
    {
      "cell_type": "code",
      "metadata": {
        "id": "YQm4ExK8CXCb",
        "colab_type": "code",
        "colab": {}
      },
      "source": [
        "data.to_csv(\"data(norm).csv\")\n",
        "# inte.to_csv(\"int(norm).csv\")"
      ],
      "execution_count": 0,
      "outputs": []
    },
    {
      "cell_type": "markdown",
      "metadata": {
        "id": "Hoiin4sVzM47",
        "colab_type": "text"
      },
      "source": [
        "## Feature Selection"
      ]
    },
    {
      "cell_type": "code",
      "metadata": {
        "id": "3HPX90mnzPGN",
        "colab_type": "code",
        "colab": {}
      },
      "source": [
        "X = pd.read_csv(\"data(norm).csv\", index_col=0, header=0)\n",
        "y = X[\"24\"]\n",
        "X = X.drop(columns = '24')\n"
      ],
      "execution_count": 0,
      "outputs": []
    },
    {
      "cell_type": "code",
      "metadata": {
        "id": "fWVrdTZYBGX5",
        "colab_type": "code",
        "colab": {}
      },
      "source": [
        "from sklearn.feature_selection import RFECV\n",
        "from sklearn.svm import SVR\n",
        "from sklearn.model_selection import KFold"
      ],
      "execution_count": 0,
      "outputs": []
    },
    {
      "cell_type": "code",
      "metadata": {
        "id": "m4VmllcsBM_y",
        "colab_type": "code",
        "colab": {
          "base_uri": "https://localhost:8080/",
          "height": 68
        },
        "outputId": "4b932833-5c6a-4dd2-fd85-e7536c83a514"
      },
      "source": [
        "estimator = SVR(kernel = \"linear\")\n",
        "selector = RFECV(estimator, step=1,cv=KFold(n_splits=5), min_features_to_select = 15)\n",
        "selector = selector.fit(X, y)\n",
        "selector.support_"
      ],
      "execution_count": 546,
      "outputs": [
        {
          "output_type": "execute_result",
          "data": {
            "text/plain": [
              "array([ True,  True,  True,  True,  True, False,  True,  True, False,\n",
              "        True,  True, False, False,  True,  True, False,  True,  True,\n",
              "        True, False,  True, False,  True, False])"
            ]
          },
          "metadata": {
            "tags": []
          },
          "execution_count": 546
        }
      ]
    },
    {
      "cell_type": "code",
      "metadata": {
        "id": "FoAb6yVlOQkX",
        "colab_type": "code",
        "colab": {}
      },
      "source": [
        "features = [f for f,s in zip(X.columns, selector.support_) if s]"
      ],
      "execution_count": 0,
      "outputs": []
    },
    {
      "cell_type": "code",
      "metadata": {
        "id": "H3Y7oyIM2Zp6",
        "colab_type": "code",
        "colab": {
          "base_uri": "https://localhost:8080/",
          "height": 442
        },
        "outputId": "8006e506-823f-4b7e-a236-cf76bdb3a15f"
      },
      "source": [
        "X.dtypes"
      ],
      "execution_count": 548,
      "outputs": [
        {
          "output_type": "execute_result",
          "data": {
            "text/plain": [
              "0     float64\n",
              "1     float64\n",
              "2     float64\n",
              "3     float64\n",
              "4     float64\n",
              "5     float64\n",
              "6     float64\n",
              "7     float64\n",
              "8     float64\n",
              "9     float64\n",
              "10    float64\n",
              "11    float64\n",
              "12    float64\n",
              "13    float64\n",
              "14    float64\n",
              "15    float64\n",
              "16    float64\n",
              "17    float64\n",
              "18    float64\n",
              "19    float64\n",
              "20    float64\n",
              "21    float64\n",
              "22    float64\n",
              "23    float64\n",
              "dtype: object"
            ]
          },
          "metadata": {
            "tags": []
          },
          "execution_count": 548
        }
      ]
    },
    {
      "cell_type": "code",
      "metadata": {
        "id": "6AsSg4bRnknc",
        "colab_type": "code",
        "colab": {}
      },
      "source": [
        "d = X[features]\n",
        "d.to_csv(\"fin.csv\")"
      ],
      "execution_count": 0,
      "outputs": []
    },
    {
      "cell_type": "code",
      "metadata": {
        "id": "4p6IFoYR4aCe",
        "colab_type": "code",
        "colab": {}
      },
      "source": [
        "d.columns = ['Region', 'Gender', 'Married', 'Children', 'Occupation', 'cases/1M',\n",
        "       'Deaths/1M', 'Age', 'Coma score', 'Diuresis', 'Platelets', 'd-dimer',\n",
        "       'Heart rate', 'HDL cholesterol', 'Blood Glucose', 'salary']"
      ],
      "execution_count": 0,
      "outputs": []
    },
    {
      "cell_type": "markdown",
      "metadata": {
        "id": "buxU8JSBAyzl",
        "colab_type": "text"
      },
      "source": [
        "## Model Building"
      ]
    },
    {
      "cell_type": "code",
      "metadata": {
        "id": "vf7B93Z77Ftt",
        "colab_type": "code",
        "colab": {}
      },
      "source": [
        "import xgboost as xgb\n",
        "import numpy as np\n",
        "from sklearn.metrics import mean_squared_error\n",
        "from sklearn.model_selection import train_test_split\n",
        "import matplotlib.pyplot as plt"
      ],
      "execution_count": 0,
      "outputs": []
    },
    {
      "cell_type": "code",
      "metadata": {
        "id": "4SHMuT7v79rd",
        "colab_type": "code",
        "colab": {
          "base_uri": "https://localhost:8080/",
          "height": 85
        },
        "outputId": "ba8f4f8d-b4b1-48b0-d584-6fd7a9ce53f5"
      },
      "source": [
        "data_mat = xgb.DMatrix(data=d,label=y)"
      ],
      "execution_count": 552,
      "outputs": [
        {
          "output_type": "stream",
          "text": [
            "/usr/local/lib/python3.6/dist-packages/xgboost/core.py:587: FutureWarning: Series.base is deprecated and will be removed in a future version\n",
            "  if getattr(data, 'base', None) is not None and \\\n",
            "/usr/local/lib/python3.6/dist-packages/xgboost/core.py:588: FutureWarning: Series.base is deprecated and will be removed in a future version\n",
            "  data.base is not None and isinstance(data, np.ndarray) \\\n"
          ],
          "name": "stderr"
        }
      ]
    },
    {
      "cell_type": "code",
      "metadata": {
        "id": "X_hXYjmT88hG",
        "colab_type": "code",
        "colab": {}
      },
      "source": [
        "X_train, X_test, y_train, y_test = train_test_split(d, y, test_size=0.2, random_state=143)\n",
        "X_train_fin, X_val, y_train_fin, y_val = train_test_split(X_train, y_train, test_size=0.1, random_state=143)"
      ],
      "execution_count": 0,
      "outputs": []
    },
    {
      "cell_type": "code",
      "metadata": {
        "id": "rtkBhPHRwS_T",
        "colab_type": "code",
        "colab": {
          "base_uri": "https://localhost:8080/",
          "height": 289
        },
        "outputId": "9577dcb2-b7fc-4ec1-be3f-f52fb0412032"
      },
      "source": [
        "for col in X_train.columns:\n",
        "  print(col)"
      ],
      "execution_count": 554,
      "outputs": [
        {
          "output_type": "stream",
          "text": [
            "Region\n",
            "Gender\n",
            "Married\n",
            "Children\n",
            "Occupation\n",
            "cases/1M\n",
            "Deaths/1M\n",
            "Age\n",
            "Coma score\n",
            "Diuresis\n",
            "Platelets\n",
            "d-dimer\n",
            "Heart rate\n",
            "HDL cholesterol\n",
            "Blood Glucose\n",
            "salary\n"
          ],
          "name": "stdout"
        }
      ]
    },
    {
      "cell_type": "code",
      "metadata": {
        "id": "jvvZVOb39KtY",
        "colab_type": "code",
        "colab": {
          "base_uri": "https://localhost:8080/",
          "height": 901
        },
        "outputId": "bbd0ab3e-2a22-4b84-d32e-23bdeaed5f61"
      },
      "source": [
        "reg = xgb.XGBRegressor(objective ='reg:squarederror', colsample_bytree = 1, learning_rate = 0.1, max_depth = 2, alpha = 3, n_estimators = 50,)\n",
        "eval_set = [(X_test, y_test)]\n",
        "reg.fit(X_train_fin,y_train_fin,eval_metric=\"rmse\", eval_set=eval_set, verbose=True)\n",
        "preds_test = reg.predict(X_test)\n",
        "preds_val = reg.predict(X_val)"
      ],
      "execution_count": 555,
      "outputs": [
        {
          "output_type": "stream",
          "text": [
            "[0]\tvalidation_0-rmse:0.216667\n",
            "[1]\tvalidation_0-rmse:0.204335\n",
            "[2]\tvalidation_0-rmse:0.193828\n",
            "[3]\tvalidation_0-rmse:0.184801\n",
            "[4]\tvalidation_0-rmse:0.177078\n",
            "[5]\tvalidation_0-rmse:0.170589\n",
            "[6]\tvalidation_0-rmse:0.165088\n",
            "[7]\tvalidation_0-rmse:0.160561\n",
            "[8]\tvalidation_0-rmse:0.156755\n",
            "[9]\tvalidation_0-rmse:0.153593\n",
            "[10]\tvalidation_0-rmse:0.150985\n",
            "[11]\tvalidation_0-rmse:0.148867\n",
            "[12]\tvalidation_0-rmse:0.14697\n",
            "[13]\tvalidation_0-rmse:0.145392\n",
            "[14]\tvalidation_0-rmse:0.144195\n",
            "[15]\tvalidation_0-rmse:0.143235\n",
            "[16]\tvalidation_0-rmse:0.142334\n",
            "[17]\tvalidation_0-rmse:0.141324\n",
            "[18]\tvalidation_0-rmse:0.140785\n",
            "[19]\tvalidation_0-rmse:0.140051\n",
            "[20]\tvalidation_0-rmse:0.13968\n",
            "[21]\tvalidation_0-rmse:0.139139\n",
            "[22]\tvalidation_0-rmse:0.138798\n",
            "[23]\tvalidation_0-rmse:0.138398\n",
            "[24]\tvalidation_0-rmse:0.138248\n",
            "[25]\tvalidation_0-rmse:0.138112\n",
            "[26]\tvalidation_0-rmse:0.138038\n",
            "[27]\tvalidation_0-rmse:0.137971\n"
          ],
          "name": "stdout"
        },
        {
          "output_type": "stream",
          "text": [
            "/usr/local/lib/python3.6/dist-packages/xgboost/core.py:587: FutureWarning: Series.base is deprecated and will be removed in a future version\n",
            "  if getattr(data, 'base', None) is not None and \\\n"
          ],
          "name": "stderr"
        },
        {
          "output_type": "stream",
          "text": [
            "[28]\tvalidation_0-rmse:0.137732\n",
            "[29]\tvalidation_0-rmse:0.13771\n",
            "[30]\tvalidation_0-rmse:0.137734\n",
            "[31]\tvalidation_0-rmse:0.137559\n",
            "[32]\tvalidation_0-rmse:0.137578\n",
            "[33]\tvalidation_0-rmse:0.137525\n",
            "[34]\tvalidation_0-rmse:0.137451\n",
            "[35]\tvalidation_0-rmse:0.137426\n",
            "[36]\tvalidation_0-rmse:0.137373\n",
            "[37]\tvalidation_0-rmse:0.13734\n",
            "[38]\tvalidation_0-rmse:0.137405\n",
            "[39]\tvalidation_0-rmse:0.137391\n",
            "[40]\tvalidation_0-rmse:0.137386\n",
            "[41]\tvalidation_0-rmse:0.137385\n",
            "[42]\tvalidation_0-rmse:0.137352\n",
            "[43]\tvalidation_0-rmse:0.13742\n",
            "[44]\tvalidation_0-rmse:0.137359\n",
            "[45]\tvalidation_0-rmse:0.137352\n",
            "[46]\tvalidation_0-rmse:0.137332\n",
            "[47]\tvalidation_0-rmse:0.137335\n",
            "[48]\tvalidation_0-rmse:0.137318\n",
            "[49]\tvalidation_0-rmse:0.137303\n"
          ],
          "name": "stdout"
        }
      ]
    },
    {
      "cell_type": "code",
      "metadata": {
        "id": "WQdnVysjI8mN",
        "colab_type": "code",
        "colab": {
          "base_uri": "https://localhost:8080/",
          "height": 34
        },
        "outputId": "57d54fca-40a9-401d-8f51-bccca41a0f04"
      },
      "source": [
        "rmse_val = np.sqrt(mean_squared_error(y_val, preds_val))\n",
        "print(\"RMSE: %f\" % (rmse_val))"
      ],
      "execution_count": 556,
      "outputs": [
        {
          "output_type": "stream",
          "text": [
            "RMSE: 0.133048\n"
          ],
          "name": "stdout"
        }
      ]
    },
    {
      "cell_type": "code",
      "metadata": {
        "id": "KvxPnGO-9Slt",
        "colab_type": "code",
        "colab": {
          "base_uri": "https://localhost:8080/",
          "height": 34
        },
        "outputId": "a46a23f5-a414-4c72-af85-896c6f7bdbde"
      },
      "source": [
        "rmse_pred = np.sqrt(mean_squared_error(y_test, preds_test))\n",
        "print(\"RMSE: %f\" % (rmse_pred))"
      ],
      "execution_count": 557,
      "outputs": [
        {
          "output_type": "stream",
          "text": [
            "RMSE: 0.137303\n"
          ],
          "name": "stdout"
        }
      ]
    },
    {
      "cell_type": "code",
      "metadata": {
        "id": "ke2BqZZ-ANyr",
        "colab_type": "code",
        "colab": {
          "base_uri": "https://localhost:8080/",
          "height": 350
        },
        "outputId": "204a768d-520d-466a-fc52-223f6c6c6d87"
      },
      "source": [
        "xgb.plot_importance(reg)\n",
        "plt.rcParams['figure.figsize'] = [5, 5]\n",
        "plt.show()"
      ],
      "execution_count": 558,
      "outputs": [
        {
          "output_type": "display_data",
          "data": {
            "image/png": "[encoded data removed]",
            "text/plain": [
              "<Figure size 360x360 with 1 Axes>"
            ]
          },
          "metadata": {
            "tags": []
          }
        }
      ]
    },
    {
      "cell_type": "code",
      "metadata": {
        "id": "Q5pq3fBxKZni",
        "colab_type": "code",
        "colab": {
          "base_uri": "https://localhost:8080/",
          "height": 68
        },
        "outputId": "8deb4a2f-1881-45dd-84bc-5ad3f5ae365e"
      },
      "source": [
        "params = {\"objective\":\"reg:linear\",'colsample_bytree': 0.5,'learning_rate': 0.4,\n",
        "                'max_depth': 3, 'alpha': 2, 'n-estimators': 10}\n",
        "\n",
        "cv_results = xgb.cv(dtrain=data_mat, params=params, nfold=3,\n",
        "                    num_boost_round=50,early_stopping_rounds=10,metrics=\"rmse\", as_pandas=True, seed=143)"
      ],
      "execution_count": 559,
      "outputs": [
        {
          "output_type": "stream",
          "text": [
            "[06:16:06] WARNING: /workspace/src/objective/regression_obj.cu:152: reg:linear is now deprecated in favor of reg:squarederror.\n",
            "[06:16:06] WARNING: /workspace/src/objective/regression_obj.cu:152: reg:linear is now deprecated in favor of reg:squarederror.\n",
            "[06:16:06] WARNING: /workspace/src/objective/regression_obj.cu:152: reg:linear is now deprecated in favor of reg:squarederror.\n"
          ],
          "name": "stdout"
        }
      ]
    },
    {
      "cell_type": "code",
      "metadata": {
        "id": "29l3wQq0KzZJ",
        "colab_type": "code",
        "colab": {
          "base_uri": "https://localhost:8080/",
          "height": 328
        },
        "outputId": "f2652453-1c54-4ce9-cadd-474481eb8d76"
      },
      "source": [
        "cv_results.head(-5)"
      ],
      "execution_count": 560,
      "outputs": [
        {
          "output_type": "execute_result",
          "data": {
            "text/html": [
              "<div>\n",
              "<style scoped>\n",
              "    .dataframe tbody tr th:only-of-type {\n",
              "        vertical-align: middle;\n",
              "    }\n",
              "\n",
              "    .dataframe tbody tr th {\n",
              "        vertical-align: top;\n",
              "    }\n",
              "\n",
              "    .dataframe thead th {\n",
              "        text-align: right;\n",
              "    }\n",
              "</style>\n",
              "<table border=\"1\" class=\"dataframe\">\n",
              "  <thead>\n",
              "    <tr style=\"text-align: right;\">\n",
              "      <th></th>\n",
              "      <th>train-rmse-mean</th>\n",
              "      <th>train-rmse-std</th>\n",
              "      <th>test-rmse-mean</th>\n",
              "      <th>test-rmse-std</th>\n",
              "    </tr>\n",
              "  </thead>\n",
              "  <tbody>\n",
              "    <tr>\n",
              "      <th>0</th>\n",
              "      <td>0.174243</td>\n",
              "      <td>0.000708</td>\n",
              "      <td>0.174799</td>\n",
              "      <td>0.001306</td>\n",
              "    </tr>\n",
              "    <tr>\n",
              "      <th>1</th>\n",
              "      <td>0.148418</td>\n",
              "      <td>0.001279</td>\n",
              "      <td>0.149859</td>\n",
              "      <td>0.001801</td>\n",
              "    </tr>\n",
              "    <tr>\n",
              "      <th>2</th>\n",
              "      <td>0.137388</td>\n",
              "      <td>0.001679</td>\n",
              "      <td>0.139494</td>\n",
              "      <td>0.001577</td>\n",
              "    </tr>\n",
              "    <tr>\n",
              "      <th>3</th>\n",
              "      <td>0.132171</td>\n",
              "      <td>0.002185</td>\n",
              "      <td>0.135120</td>\n",
              "      <td>0.001430</td>\n",
              "    </tr>\n",
              "    <tr>\n",
              "      <th>4</th>\n",
              "      <td>0.129705</td>\n",
              "      <td>0.001788</td>\n",
              "      <td>0.132947</td>\n",
              "      <td>0.001847</td>\n",
              "    </tr>\n",
              "    <tr>\n",
              "      <th>5</th>\n",
              "      <td>0.128423</td>\n",
              "      <td>0.001826</td>\n",
              "      <td>0.132125</td>\n",
              "      <td>0.002085</td>\n",
              "    </tr>\n",
              "    <tr>\n",
              "      <th>6</th>\n",
              "      <td>0.127585</td>\n",
              "      <td>0.001653</td>\n",
              "      <td>0.131536</td>\n",
              "      <td>0.002302</td>\n",
              "    </tr>\n",
              "    <tr>\n",
              "      <th>7</th>\n",
              "      <td>0.127155</td>\n",
              "      <td>0.001632</td>\n",
              "      <td>0.131516</td>\n",
              "      <td>0.002248</td>\n",
              "    </tr>\n",
              "    <tr>\n",
              "      <th>8</th>\n",
              "      <td>0.126843</td>\n",
              "      <td>0.001696</td>\n",
              "      <td>0.131513</td>\n",
              "      <td>0.002211</td>\n",
              "    </tr>\n",
              "  </tbody>\n",
              "</table>\n",
              "</div>"
            ],
            "text/plain": [
              "   train-rmse-mean  train-rmse-std  test-rmse-mean  test-rmse-std\n",
              "0         0.174243        0.000708        0.174799       0.001306\n",
              "1         0.148418        0.001279        0.149859       0.001801\n",
              "2         0.137388        0.001679        0.139494       0.001577\n",
              "3         0.132171        0.002185        0.135120       0.001430\n",
              "4         0.129705        0.001788        0.132947       0.001847\n",
              "5         0.128423        0.001826        0.132125       0.002085\n",
              "6         0.127585        0.001653        0.131536       0.002302\n",
              "7         0.127155        0.001632        0.131516       0.002248\n",
              "8         0.126843        0.001696        0.131513       0.002211"
            ]
          },
          "metadata": {
            "tags": []
          },
          "execution_count": 560
        }
      ]
    },
    {
      "cell_type": "markdown",
      "metadata": {
        "id": "_iPdhgVWQzAC",
        "colab_type": "text"
      },
      "source": [
        "## Final preds"
      ]
    },
    {
      "cell_type": "code",
      "metadata": {
        "id": "7-O-Kr2UO2Y1",
        "colab_type": "code",
        "colab": {}
      },
      "source": [
        "test = pd.read_excel(io=\"Test_dataset.xlsx\", header=0)"
      ],
      "execution_count": 0,
      "outputs": []
    },
    {
      "cell_type": "code",
      "metadata": {
        "id": "90ANqJ3tPGgY",
        "colab_type": "code",
        "colab": {
          "base_uri": "https://localhost:8080/",
          "height": 476
        },
        "outputId": "673f7de1-defa-4113-f1b5-e6a6c92fe610"
      },
      "source": [
        "test.head()\n",
        "for col in test.columns:\n",
        "  print(col)\n",
        "# test.shape"
      ],
      "execution_count": 562,
      "outputs": [
        {
          "output_type": "stream",
          "text": [
            "people_ID\n",
            "Region\n",
            "Gender\n",
            "Designation\n",
            "Name\n",
            "Married\n",
            "Children\n",
            "Occupation\n",
            "Mode_transport\n",
            "cases/1M\n",
            "Deaths/1M\n",
            "comorbidity\n",
            "Age\n",
            "Coma score\n",
            "Pulmonary score\n",
            "cardiological pressure\n",
            "Diuresis\n",
            "Platelets\n",
            "HBB\n",
            "d-dimer\n",
            "Heart rate\n",
            "HDL cholesterol\n",
            "Charlson Index\n",
            "Blood Glucose\n",
            "Insurance\n",
            "salary\n",
            "FT/month\n"
          ],
          "name": "stdout"
        }
      ]
    },
    {
      "cell_type": "code",
      "metadata": {
        "id": "5jNlT9A_PNUk",
        "colab_type": "code",
        "colab": {}
      },
      "source": [
        "data = test[['people_ID','Designation','Name']]\n",
        "test = test.drop(columns=['people_ID','Designation','Name'])"
      ],
      "execution_count": 0,
      "outputs": []
    },
    {
      "cell_type": "code",
      "metadata": {
        "id": "IjTwCRBz2o2M",
        "colab_type": "code",
        "colab": {
          "base_uri": "https://localhost:8080/",
          "height": 88
        },
        "outputId": "62b16311-1007-40e6-e470-6e3e6d1b2150"
      },
      "source": [
        "print(regd)\n",
        "print(test['Region'].unique())\n",
        "r = {5:'Hyderabad' , 6:'Pune', 7:'Thiruvananthapuram', 8:'Kolkata', 9:'Mumbai'}\n",
        "regd.update(r)\n",
        "regd = {value:key for key, value in regd.items()}\n",
        "print(regd)"
      ],
      "execution_count": 564,
      "outputs": [
        {
          "output_type": "stream",
          "text": [
            "{0: 'Bengaluru', 1: 'Bhubaneshwar', 2: 'Chandigarh', 3: 'Chennai', 4: 'Delhi'}\n",
            "['Hyderabad' 'Delhi' 'Pune' 'Thiruvananthapuram' 'Kolkata' 'Mumbai']\n",
            "{'Bengaluru': 0, 'Bhubaneshwar': 1, 'Chandigarh': 2, 'Chennai': 3, 'Delhi': 4, 'Hyderabad': 5, 'Pune': 6, 'Thiruvananthapuram': 7, 'Kolkata': 8, 'Mumbai': 9}\n"
          ],
          "name": "stdout"
        }
      ]
    },
    {
      "cell_type": "code",
      "metadata": {
        "id": "cd9QZRrWvBT4",
        "colab_type": "code",
        "colab": {}
      },
      "source": [
        "test.Region = pd.Categorical(test.Region)\n",
        "test.Region = test.Region.replace(regd)\n",
        "# test['Region'] = test['Region'].replace(regd)#= test.Region.cat.codes \n",
        "test.Gender = pd.Categorical(test.Gender)\n",
        "test['Gender'] = test['Gender'].replace(gend)\n",
        "test.Married = pd.Categorical(test.Married)\n",
        "test['Married'] = test['Married'].replace(mard)\n",
        "test.Occupation = pd.Categorical(test.Occupation)\n",
        "test['Occupation'] = test['Occupation'].replace(occd) \n",
        "test.Mode_transport = pd.Categorical(test.Mode_transport)\n",
        "test['Mode_transport'] = test['Mode_transport'].replace(trand)\n",
        "test.comorbidity = pd.Categorical(test.comorbidity)\n",
        "test['comorbidity'] = test['comorbidity'].replace(comd)\n",
        "test[\"cardiological pressure\"] = pd.Categorical(test[\"cardiological pressure\"])\n",
        "test['cardiological pressure'] = test[\"cardiological pressure\"].replace(card)\n",
        "test[\"Pulmonary score\"] = pd.Categorical(test[\"Pulmonary score\"])\n",
        "test['Pulmonary score'] = test[\"Pulmonary score\"].replace(puld)"
      ],
      "execution_count": 0,
      "outputs": []
    },
    {
      "cell_type": "code",
      "metadata": {
        "id": "hfgDysrEZOiZ",
        "colab_type": "code",
        "colab": {
          "base_uri": "https://localhost:8080/",
          "height": 456
        },
        "outputId": "d00432fc-3cdb-4732-a526-ecd5a35c089f"
      },
      "source": [
        "test"
      ],
      "execution_count": 566,
      "outputs": [
        {
          "output_type": "execute_result",
          "data": {
            "text/html": [
              "<div>\n",
              "<style scoped>\n",
              "    .dataframe tbody tr th:only-of-type {\n",
              "        vertical-align: middle;\n",
              "    }\n",
              "\n",
              "    .dataframe tbody tr th {\n",
              "        vertical-align: top;\n",
              "    }\n",
              "\n",
              "    .dataframe thead th {\n",
              "        text-align: right;\n",
              "    }\n",
              "</style>\n",
              "<table border=\"1\" class=\"dataframe\">\n",
              "  <thead>\n",
              "    <tr style=\"text-align: right;\">\n",
              "      <th></th>\n",
              "      <th>Region</th>\n",
              "      <th>Gender</th>\n",
              "      <th>Married</th>\n",
              "      <th>Children</th>\n",
              "      <th>Occupation</th>\n",
              "      <th>Mode_transport</th>\n",
              "      <th>cases/1M</th>\n",
              "      <th>Deaths/1M</th>\n",
              "      <th>comorbidity</th>\n",
              "      <th>Age</th>\n",
              "      <th>Coma score</th>\n",
              "      <th>Pulmonary score</th>\n",
              "      <th>cardiological pressure</th>\n",
              "      <th>Diuresis</th>\n",
              "      <th>Platelets</th>\n",
              "      <th>HBB</th>\n",
              "      <th>d-dimer</th>\n",
              "      <th>Heart rate</th>\n",
              "      <th>HDL cholesterol</th>\n",
              "      <th>Charlson Index</th>\n",
              "      <th>Blood Glucose</th>\n",
              "      <th>Insurance</th>\n",
              "      <th>salary</th>\n",
              "      <th>FT/month</th>\n",
              "    </tr>\n",
              "  </thead>\n",
              "  <tbody>\n",
              "    <tr>\n",
              "      <th>0</th>\n",
              "      <td>5</td>\n",
              "      <td>1</td>\n",
              "      <td>1</td>\n",
              "      <td>1</td>\n",
              "      <td>0</td>\n",
              "      <td>2</td>\n",
              "      <td>4</td>\n",
              "      <td>1</td>\n",
              "      <td>0</td>\n",
              "      <td>43</td>\n",
              "      <td>12</td>\n",
              "      <td>3</td>\n",
              "      <td>1</td>\n",
              "      <td>121</td>\n",
              "      <td>43</td>\n",
              "      <td>59</td>\n",
              "      <td>350</td>\n",
              "      <td>98</td>\n",
              "      <td>40</td>\n",
              "      <td>18</td>\n",
              "      <td>7</td>\n",
              "      <td>1700000</td>\n",
              "      <td>500000</td>\n",
              "      <td>2</td>\n",
              "    </tr>\n",
              "    <tr>\n",
              "      <th>1</th>\n",
              "      <td>4</td>\n",
              "      <td>0</td>\n",
              "      <td>1</td>\n",
              "      <td>0</td>\n",
              "      <td>2</td>\n",
              "      <td>0</td>\n",
              "      <td>4</td>\n",
              "      <td>1</td>\n",
              "      <td>1</td>\n",
              "      <td>49</td>\n",
              "      <td>15</td>\n",
              "      <td>2</td>\n",
              "      <td>0</td>\n",
              "      <td>125</td>\n",
              "      <td>78</td>\n",
              "      <td>37</td>\n",
              "      <td>350</td>\n",
              "      <td>74</td>\n",
              "      <td>54</td>\n",
              "      <td>38</td>\n",
              "      <td>3</td>\n",
              "      <td>4600000</td>\n",
              "      <td>1800000</td>\n",
              "      <td>2</td>\n",
              "    </tr>\n",
              "    <tr>\n",
              "      <th>2</th>\n",
              "      <td>6</td>\n",
              "      <td>0</td>\n",
              "      <td>1</td>\n",
              "      <td>2</td>\n",
              "      <td>2</td>\n",
              "      <td>2</td>\n",
              "      <td>3</td>\n",
              "      <td>1</td>\n",
              "      <td>1</td>\n",
              "      <td>55</td>\n",
              "      <td>11</td>\n",
              "      <td>1</td>\n",
              "      <td>2</td>\n",
              "      <td>125</td>\n",
              "      <td>131</td>\n",
              "      <td>69</td>\n",
              "      <td>350</td>\n",
              "      <td>57</td>\n",
              "      <td>54</td>\n",
              "      <td>32</td>\n",
              "      <td>5</td>\n",
              "      <td>2500000</td>\n",
              "      <td>1800000</td>\n",
              "      <td>2</td>\n",
              "    </tr>\n",
              "    <tr>\n",
              "      <th>3</th>\n",
              "      <td>7</td>\n",
              "      <td>1</td>\n",
              "      <td>1</td>\n",
              "      <td>1</td>\n",
              "      <td>0</td>\n",
              "      <td>2</td>\n",
              "      <td>11</td>\n",
              "      <td>2</td>\n",
              "      <td>1</td>\n",
              "      <td>29</td>\n",
              "      <td>4</td>\n",
              "      <td>3</td>\n",
              "      <td>1</td>\n",
              "      <td>134</td>\n",
              "      <td>91</td>\n",
              "      <td>87</td>\n",
              "      <td>350</td>\n",
              "      <td>97</td>\n",
              "      <td>70</td>\n",
              "      <td>22</td>\n",
              "      <td>7</td>\n",
              "      <td>3400000</td>\n",
              "      <td>400000</td>\n",
              "      <td>1</td>\n",
              "    </tr>\n",
              "    <tr>\n",
              "      <th>4</th>\n",
              "      <td>6</td>\n",
              "      <td>0</td>\n",
              "      <td>1</td>\n",
              "      <td>1</td>\n",
              "      <td>7</td>\n",
              "      <td>2</td>\n",
              "      <td>3</td>\n",
              "      <td>1</td>\n",
              "      <td>2</td>\n",
              "      <td>68</td>\n",
              "      <td>3</td>\n",
              "      <td>1</td>\n",
              "      <td>2</td>\n",
              "      <td>139</td>\n",
              "      <td>46</td>\n",
              "      <td>21</td>\n",
              "      <td>350</td>\n",
              "      <td>100</td>\n",
              "      <td>41</td>\n",
              "      <td>0</td>\n",
              "      <td>4</td>\n",
              "      <td>3400000</td>\n",
              "      <td>1600000</td>\n",
              "      <td>1</td>\n",
              "    </tr>\n",
              "    <tr>\n",
              "      <th>...</th>\n",
              "      <td>...</td>\n",
              "      <td>...</td>\n",
              "      <td>...</td>\n",
              "      <td>...</td>\n",
              "      <td>...</td>\n",
              "      <td>...</td>\n",
              "      <td>...</td>\n",
              "      <td>...</td>\n",
              "      <td>...</td>\n",
              "      <td>...</td>\n",
              "      <td>...</td>\n",
              "      <td>...</td>\n",
              "      <td>...</td>\n",
              "      <td>...</td>\n",
              "      <td>...</td>\n",
              "      <td>...</td>\n",
              "      <td>...</td>\n",
              "      <td>...</td>\n",
              "      <td>...</td>\n",
              "      <td>...</td>\n",
              "      <td>...</td>\n",
              "      <td>...</td>\n",
              "      <td>...</td>\n",
              "      <td>...</td>\n",
              "    </tr>\n",
              "    <tr>\n",
              "      <th>14493</th>\n",
              "      <td>8</td>\n",
              "      <td>1</td>\n",
              "      <td>1</td>\n",
              "      <td>1</td>\n",
              "      <td>0</td>\n",
              "      <td>1</td>\n",
              "      <td>0</td>\n",
              "      <td>0</td>\n",
              "      <td>1</td>\n",
              "      <td>49</td>\n",
              "      <td>15</td>\n",
              "      <td>1</td>\n",
              "      <td>2</td>\n",
              "      <td>427</td>\n",
              "      <td>74</td>\n",
              "      <td>21</td>\n",
              "      <td>200</td>\n",
              "      <td>99</td>\n",
              "      <td>40</td>\n",
              "      <td>4</td>\n",
              "      <td>4</td>\n",
              "      <td>4300000</td>\n",
              "      <td>500000</td>\n",
              "      <td>1</td>\n",
              "    </tr>\n",
              "    <tr>\n",
              "      <th>14494</th>\n",
              "      <td>4</td>\n",
              "      <td>0</td>\n",
              "      <td>1</td>\n",
              "      <td>1</td>\n",
              "      <td>1</td>\n",
              "      <td>0</td>\n",
              "      <td>4</td>\n",
              "      <td>1</td>\n",
              "      <td>0</td>\n",
              "      <td>64</td>\n",
              "      <td>14</td>\n",
              "      <td>2</td>\n",
              "      <td>0</td>\n",
              "      <td>431</td>\n",
              "      <td>84</td>\n",
              "      <td>29</td>\n",
              "      <td>200</td>\n",
              "      <td>78</td>\n",
              "      <td>41</td>\n",
              "      <td>26</td>\n",
              "      <td>4</td>\n",
              "      <td>3100000</td>\n",
              "      <td>300000</td>\n",
              "      <td>0</td>\n",
              "    </tr>\n",
              "    <tr>\n",
              "      <th>14495</th>\n",
              "      <td>9</td>\n",
              "      <td>1</td>\n",
              "      <td>1</td>\n",
              "      <td>1</td>\n",
              "      <td>7</td>\n",
              "      <td>0</td>\n",
              "      <td>13</td>\n",
              "      <td>3</td>\n",
              "      <td>2</td>\n",
              "      <td>37</td>\n",
              "      <td>4</td>\n",
              "      <td>2</td>\n",
              "      <td>0</td>\n",
              "      <td>440</td>\n",
              "      <td>154</td>\n",
              "      <td>97</td>\n",
              "      <td>200</td>\n",
              "      <td>77</td>\n",
              "      <td>54</td>\n",
              "      <td>8</td>\n",
              "      <td>6</td>\n",
              "      <td>1300000</td>\n",
              "      <td>1500000</td>\n",
              "      <td>2</td>\n",
              "    </tr>\n",
              "    <tr>\n",
              "      <th>14496</th>\n",
              "      <td>5</td>\n",
              "      <td>0</td>\n",
              "      <td>1</td>\n",
              "      <td>2</td>\n",
              "      <td>4</td>\n",
              "      <td>0</td>\n",
              "      <td>4</td>\n",
              "      <td>1</td>\n",
              "      <td>1</td>\n",
              "      <td>33</td>\n",
              "      <td>14</td>\n",
              "      <td>2</td>\n",
              "      <td>0</td>\n",
              "      <td>442</td>\n",
              "      <td>35</td>\n",
              "      <td>198</td>\n",
              "      <td>200</td>\n",
              "      <td>83</td>\n",
              "      <td>41</td>\n",
              "      <td>13</td>\n",
              "      <td>4</td>\n",
              "      <td>1300000</td>\n",
              "      <td>1100000</td>\n",
              "      <td>1</td>\n",
              "    </tr>\n",
              "    <tr>\n",
              "      <th>14497</th>\n",
              "      <td>6</td>\n",
              "      <td>1</td>\n",
              "      <td>0</td>\n",
              "      <td>0</td>\n",
              "      <td>1</td>\n",
              "      <td>1</td>\n",
              "      <td>3</td>\n",
              "      <td>1</td>\n",
              "      <td>3</td>\n",
              "      <td>23</td>\n",
              "      <td>14</td>\n",
              "      <td>3</td>\n",
              "      <td>1</td>\n",
              "      <td>445</td>\n",
              "      <td>65</td>\n",
              "      <td>30</td>\n",
              "      <td>200</td>\n",
              "      <td>77</td>\n",
              "      <td>43</td>\n",
              "      <td>17</td>\n",
              "      <td>5</td>\n",
              "      <td>1700000</td>\n",
              "      <td>300000</td>\n",
              "      <td>1</td>\n",
              "    </tr>\n",
              "  </tbody>\n",
              "</table>\n",
              "<p>14498 rows × 24 columns</p>\n",
              "</div>"
            ],
            "text/plain": [
              "       Region  Gender  Married  ...  Insurance   salary  FT/month\n",
              "0           5       1        1  ...    1700000   500000         2\n",
              "1           4       0        1  ...    4600000  1800000         2\n",
              "2           6       0        1  ...    2500000  1800000         2\n",
              "3           7       1        1  ...    3400000   400000         1\n",
              "4           6       0        1  ...    3400000  1600000         1\n",
              "...       ...     ...      ...  ...        ...      ...       ...\n",
              "14493       8       1        1  ...    4300000   500000         1\n",
              "14494       4       0        1  ...    3100000   300000         0\n",
              "14495       9       1        1  ...    1300000  1500000         2\n",
              "14496       5       0        1  ...    1300000  1100000         1\n",
              "14497       6       1        0  ...    1700000   300000         1\n",
              "\n",
              "[14498 rows x 24 columns]"
            ]
          },
          "metadata": {
            "tags": []
          },
          "execution_count": 566
        }
      ]
    },
    {
      "cell_type": "code",
      "metadata": {
        "id": "Pcf5hhe71yEM",
        "colab_type": "code",
        "colab": {}
      },
      "source": [
        "features = [f for f,s in zip(test.columns, selector.support_) if s]\n",
        "test = test[features]\n"
      ],
      "execution_count": 0,
      "outputs": []
    },
    {
      "cell_type": "code",
      "metadata": {
        "id": "k14hqdbcBhRd",
        "colab_type": "code",
        "colab": {
          "base_uri": "https://localhost:8080/",
          "height": 85
        },
        "outputId": "700abc27-a6b6-4309-cb06-fb4b826ca1a6"
      },
      "source": [
        "test.columns"
      ],
      "execution_count": 568,
      "outputs": [
        {
          "output_type": "execute_result",
          "data": {
            "text/plain": [
              "Index(['Region', 'Gender', 'Married', 'Children', 'Occupation', 'cases/1M',\n",
              "       'Deaths/1M', 'Age', 'Coma score', 'Diuresis', 'Platelets', 'd-dimer',\n",
              "       'Heart rate', 'HDL cholesterol', 'Blood Glucose', 'salary'],\n",
              "      dtype='object')"
            ]
          },
          "metadata": {
            "tags": []
          },
          "execution_count": 568
        }
      ]
    },
    {
      "cell_type": "code",
      "metadata": {
        "id": "3O8HBqgQBcET",
        "colab_type": "code",
        "colab": {}
      },
      "source": [
        ""
      ],
      "execution_count": 0,
      "outputs": []
    },
    {
      "cell_type": "code",
      "metadata": {
        "id": "8sSAdgW8SzTi",
        "colab_type": "code",
        "colab": {}
      },
      "source": [
        "test = test.values\n",
        "min_max_scaler = preprocessing.MinMaxScaler()\n",
        "x_scaled = min_max_scaler.fit_transform(test)\n",
        "test = pd.DataFrame(x_scaled)"
      ],
      "execution_count": 0,
      "outputs": []
    },
    {
      "cell_type": "code",
      "metadata": {
        "id": "-lnX0LtPRazT",
        "colab_type": "code",
        "colab": {
          "base_uri": "https://localhost:8080/",
          "height": 34
        },
        "outputId": "b690a71c-6683-402d-cc26-10b19dd863fa"
      },
      "source": [
        "test.shape\n",
        "# for col in test.columns:\n",
        "#   print(col)"
      ],
      "execution_count": 570,
      "outputs": [
        {
          "output_type": "execute_result",
          "data": {
            "text/plain": [
              "(14498, 16)"
            ]
          },
          "metadata": {
            "tags": []
          },
          "execution_count": 570
        }
      ]
    },
    {
      "cell_type": "code",
      "metadata": {
        "id": "ht-kkfS3jgtd",
        "colab_type": "code",
        "colab": {}
      },
      "source": [
        "test.columns = ['Region', 'Gender', 'Married', 'Children', 'Occupation', 'cases/1M',\n",
        "       'Deaths/1M', 'Age', 'Coma score', 'Diuresis', 'Platelets', 'd-dimer',\n",
        "       'Heart rate', 'HDL cholesterol', 'Blood Glucose', 'salary']"
      ],
      "execution_count": 0,
      "outputs": []
    },
    {
      "cell_type": "code",
      "metadata": {
        "id": "WcGD39le7K8D",
        "colab_type": "code",
        "colab": {}
      },
      "source": [
        "mat = xgb.DMatrix(test.values)"
      ],
      "execution_count": 0,
      "outputs": []
    },
    {
      "cell_type": "code",
      "metadata": {
        "id": "Sw7lSFFm4d_t",
        "colab_type": "code",
        "colab": {}
      },
      "source": [
        "fin_pred = reg.predict(test)"
      ],
      "execution_count": 0,
      "outputs": []
    },
    {
      "cell_type": "code",
      "metadata": {
        "id": "GhhCm5gYsOTt",
        "colab_type": "code",
        "colab": {}
      },
      "source": [
        "fin_pred = pd.DataFrame(fin_pred)\n",
        "data = pd.DataFrame(data)"
      ],
      "execution_count": 0,
      "outputs": []
    },
    {
      "cell_type": "code",
      "metadata": {
        "id": "0zx3wZ1mlG25",
        "colab_type": "code",
        "colab": {}
      },
      "source": [
        "result = pd.concat([data, fin_pred],axis=1)"
      ],
      "execution_count": 0,
      "outputs": []
    },
    {
      "cell_type": "code",
      "metadata": {
        "id": "efW-M0u2og8P",
        "colab_type": "code",
        "colab": {}
      },
      "source": [
        "result = result.rename(columns={0:\"21st March Probability\"})"
      ],
      "execution_count": 0,
      "outputs": []
    },
    {
      "cell_type": "code",
      "metadata": {
        "id": "095ee4u4pH7z",
        "colab_type": "code",
        "colab": {}
      },
      "source": [
        "result = result.drop(columns=['Name',\"Designation\"])"
      ],
      "execution_count": 0,
      "outputs": []
    },
    {
      "cell_type": "code",
      "metadata": {
        "id": "XYFmFYwgpitT",
        "colab_type": "code",
        "colab": {}
      },
      "source": [
        "result.to_csv(\"21st march(1).csv\")"
      ],
      "execution_count": 0,
      "outputs": []
    }
  ]
}